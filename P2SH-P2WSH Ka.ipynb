{
 "cells": [
  {
   "cell_type": "markdown",
   "id": "15c978ad-8ee8-4e13-b6c3-0df21b09fe2c",
   "metadata": {},
   "source": [
    "# P2PKH UTXO and send to P2SH(P2WSH(P2PK))"
   ]
  },
  {
   "cell_type": "code",
   "execution_count": 1,
   "id": "3146dbed-4e3c-4760-a84d-253112906a0a",
   "metadata": {},
   "outputs": [
    {
     "data": {
      "text/plain": [
       "'regtest'"
      ]
     },
     "execution_count": 1,
     "metadata": {},
     "output_type": "execute_result"
    }
   ],
   "source": [
    "from bitcoinutils.keys import P2shAddress, PrivateKey\n",
    "from bitcoinutils.script import Script\n",
    "from bitcoinutils.setup import setup\n",
    "from bitcoinutils.hdwallet import HDWallet\n",
    "from bitcoinutils.transactions import Transaction, TxInput, TxOutput\n",
    "from bitcoinutils.setup import setup\n",
    "from bitcoinutils.keys import P2shAddress, PublicKey\n",
    "from bitcoinutils.script import Script\n",
    "from bitcoinutils.utils import to_satoshis\n",
    "from bitcoinutils.transactions import Transaction, TxInput, TxOutput, TxWitnessInput\n",
    "from bitcoinutils.keys import P2pkhAddress, P2shAddress, P2wshAddress, PrivateKey, PublicKey, Address\n",
    "from bitcoinutils.proxy import NodeProxy\n",
    "import hashlib\n",
    "from enum import Enum\n",
    "from bitcoinutils.setup import setup\n",
    "from binascii import unhexlify, hexlify\n",
    "from bitcoinutils.keys import P2shAddress, PrivateKey\n",
    "from bitcoinutils.script import Script\n",
    "from bitcoinutils.setup import setup\n",
    "from bitcoinutils.hdwallet import HDWallet\n",
    "from bitcoinutils.transactions import Transaction, TxInput, TxOutput, TxWitnessInput\n",
    "setup(\"regtest\")"
   ]
  },
  {
   "cell_type": "code",
   "execution_count": 2,
   "id": "f6e0e679-9b0f-45fc-a6d9-6ce90d932f0c",
   "metadata": {},
   "outputs": [],
   "source": [
    "# private_key1 = PrivateKey(\"cTicJXw3ywZptXupB453nmPCznnueXygw8vw1ckyAkQ63RZc7d34\")\n",
    "# private_key2 = PrivateKey(\"cRQrsYJo8MPPkevELzJ85b3ei3M7p1doFfWv6oMQeFGupxFrq1sv\")"
   ]
  },
  {
   "cell_type": "code",
   "execution_count": 3,
   "id": "bd9c2a78-7e30-425a-87c6-ebb5db46e6bb",
   "metadata": {},
   "outputs": [
    {
     "name": "stdout",
     "output_type": "stream",
     "text": [
      "From address: mgkcEnxka8PUv8arimkW1S8icS2RD3TG3o\n"
     ]
    }
   ],
   "source": [
    "from_priv = PrivateKey(\"cTicJXw3ywZptXupB453nmPCznnueXygw8vw1ckyAkQ63RZc7d34\")\n",
    "from_pub = from_priv.get_public_key()\n",
    "from_addr = from_pub.get_address()\n",
    "print(\"From address:\", from_addr.to_string())"
   ]
  },
  {
   "cell_type": "code",
   "execution_count": 4,
   "id": "415ae5a3-c7dc-434b-9e64-52fc30368543",
   "metadata": {},
   "outputs": [
    {
     "name": "stdout",
     "output_type": "stream",
     "text": [
      "To address: 2NCNxo7iGGP5hi6YNFudL5QfrP5BBthpn5M\n"
     ]
    }
   ],
   "source": [
    "to_priv = PrivateKey(\"cRQrsYJo8MPPkevELzJ85b3ei3M7p1doFfWv6oMQeFGupxFrq1sv\")\n",
    "to_pub = to_priv.get_public_key()\n",
    "\n",
    "witness_script = Script([to_pub.to_hex(), \"OP_CHECKSIG\"])\n",
    "p2sh_redeem_script = witness_script.to_p2wsh_script_pub_key()  # maybe to_p2sh_...\n",
    "\n",
    "p2sh_address = P2shAddress.from_script(p2sh_redeem_script)\n",
    "print(\"To address:\", p2sh_address.to_string())"
   ]
  },
  {
   "cell_type": "code",
   "execution_count": 5,
   "id": "fa744a6f-9b47-4278-b9d0-00adf62e2c70",
   "metadata": {},
   "outputs": [
    {
     "name": "stdout",
     "output_type": "stream",
     "text": [
      "[{'address': '2NCNxo7iGGP5hi6YNFudL5QfrP5BBthpn5M', 'category': 'send', 'amount': Decimal('-0.10000000'), 'vout': 1, 'fee': Decimal('-0.00001430'), 'confirmations': 0, 'trusted': True, 'txid': '7a5630126294c0cac59f53ba31dd902591f8791b11f9f0f9db0a20b410eb7f0f', 'wtxid': '39db4ca1cb9a7dc1912ba7174ee164c95da1f767e475ebe5a5544ec9395c37fe', 'walletconflicts': [], 'time': 1694467590, 'timereceived': 1694467590, 'bip125-replaceable': 'yes', 'abandoned': False}]\n"
     ]
    }
   ],
   "source": [
    "proxy = NodeProxy('deep', 'mdsSgY3ZUXe6x5JIQ81gpNwPPDu-arnaRGh-AGmi0IM').get_proxy()\n",
    "p2pkh_addr = from_addr\n",
    "n_blocks = proxy.getblockcount()\n",
    "n_mempool = proxy.getmempoolinfo()[\"size\"]\n",
    "total_txs = sum(\n",
    "    [proxy.getblockstats(block, [\"txs\"])[\"txs\"] for block in range(1, n_blocks)]\n",
    ")\n",
    "all_txs = proxy.listtransactions(\"*\", total_txs + n_mempool, 0, True)\n",
    "p2sh_txs = [*filter(lambda tx: tx[\"address\"] == p2sh_address.to_string(), all_txs)]\n",
    "print(p2sh_txs)"
   ]
  },
  {
   "cell_type": "code",
   "execution_count": 6,
   "id": "5de1c008-1519-459b-90ed-46b575687c86",
   "metadata": {},
   "outputs": [
    {
     "name": "stdout",
     "output_type": "stream",
     "text": [
      "*Found UTXO with 0.10000000 tBTC, TXID : [7a5630126294c0cac59f53ba31dd902591f8791b11f9f0f9db0a20b410eb7f0f]\n",
      "Total spendable amount aggregated from 1 UTXO(s) associated with P2SH address: 0.10000000 tBTC\n",
      "TX fee in satoshis: 14625 (Fee Rate is 0.00078000 tBTC/KB)\n",
      "Sending 9985375 satoshis (0.09985375 BTC) to P2PKH address [mgkcEnxka8PUv8arimkW1S8icS2RD3TG3o]\n"
     ]
    }
   ],
   "source": [
    "p2sh_utxo = []\n",
    "amount_to_send = 0.0\n",
    "MIN_CONF = 0\n",
    "\n",
    "for tx in p2sh_txs:\n",
    "    if not proxy.gettxout(tx[\"txid\"], tx[\"vout\"]):\n",
    "        print(\"tx [{}] already spent\".format(tx[\"txid\"]))\n",
    "        continue\n",
    "    if int(tx[\"confirmations\"]) >= MIN_CONF and tx[\"category\"] == \"send\":\n",
    "        tx_in = TxInput(tx[\"txid\"], tx[\"vout\"])\n",
    "        print(\n",
    "            \"*Found UTXO with {0:.8f} tBTC, TXID : [{1}]\".format(\n",
    "                abs(tx[\"amount\"]), tx[\"txid\"]\n",
    "            )\n",
    "        )\n",
    "        p2sh_utxo += [tx_in]\n",
    "        amount_to_send += abs(float(tx[\"amount\"]))\n",
    "\n",
    "if not p2sh_utxo:\n",
    "    raise RuntimeError(\"No UTXO's currently associated with that P2SH address\")\n",
    "\n",
    "PRICE_PER_BYTE = 0.00078 / 1024\n",
    "tx_fee = (len(p2sh_utxo) * 148 + 1 * 34 + 10) * PRICE_PER_BYTE\n",
    "\n",
    "print(\"Total spendable amount aggregated from {0} UTXO(s) associated with P2SH address: {1:.8f} tBTC\".format(len(p2sh_utxo), amount_to_send))\n",
    "print(\"TX fee in satoshis: {0} (Fee Rate is {1:.8f} tBTC/KB)\".format(to_satoshis(tx_fee), 0.00078))\n",
    "amount_to_send -= tx_fee\n",
    "\n",
    "print(\"Sending {0} satoshis ({1:.8f} BTC) to P2PKH address [{2}]\".format(to_satoshis(amount_to_send), amount_to_send, p2pkh_addr.to_string()))"
   ]
  },
  {
   "cell_type": "code",
   "execution_count": 7,
   "id": "5e48fba8-1fab-4521-8ed9-fa34c7e0a49f",
   "metadata": {},
   "outputs": [
    {
     "data": {
      "text/plain": [
       "[{'txid': '7a5630126294c0cac59f53ba31dd902591f8791b11f9f0f9db0a20b410eb7f0f', 'txout_index': 1, 'script_sig': []}]"
      ]
     },
     "execution_count": 7,
     "metadata": {},
     "output_type": "execute_result"
    }
   ],
   "source": [
    "p2sh_utxo"
   ]
  },
  {
   "cell_type": "code",
   "execution_count": 8,
   "id": "29552114-0117-4197-9e35-51d7d90b4dcc",
   "metadata": {},
   "outputs": [],
   "source": [
    "# txout = TxOutput(to_satoshis(amount_to_send), p2pkh_addr.to_script_pub_key())\n",
    "# tx = Transaction(inputs=p2sh_utxo, outputs=[txout], has_segwit=True)\n",
    "# print(\"\\nRaw transaction:\\n\" + tx.serialize())"
   ]
  },
  {
   "cell_type": "code",
   "execution_count": 9,
   "id": "5fb1033a-f205-42ae-ba07-8ddc0ab2c819",
   "metadata": {},
   "outputs": [],
   "source": [
    "# Generated Transaction Id with the command\n",
    "# ./bitcoin-cli -regtest sendtoaddress \"2NCNxo7iGGP5hi6YNFudL5QfrP5BBthpn5M\" 0.1\n",
    "txid = \"7a5630126294c0cac59f53ba31dd902591f8791b11f9f0f9db0a20b410eb7f0f\"\n",
    "vout = 0\n",
    "\n",
    "txin = TxInput(txid, vout)\n",
    "txout = TxOutput(5000, p2sh_redeem_script.to_p2sh_script_pub_key())\n",
    "txout_change = TxOutput(1530000, from_addr.to_script_pub_key())\n",
    "tx = Transaction([txin], [txout, txout_change])"
   ]
  },
  {
   "cell_type": "code",
   "execution_count": 10,
   "id": "aa3b1f51-71e1-4c3d-9f2e-21849f60e05b",
   "metadata": {},
   "outputs": [
    {
     "name": "stdout",
     "output_type": "stream",
     "text": [
      "02000000010f7feb10b4200adbf9f0f9111b79f8912590dd31ba539fc5cac094621230567a000000006a47304402202f454be9831c9be09d996a484a5f58744e83aca7b4873cf29ffc43983b7f7dbd022078a592d03bfe17b928be671bd877ae71ce1db3fea8b226cd5fff62a11de6b48d01210283aacf4507f578596fc8d65f393ecf8bc38a9740035c267bf745f89b4497626bffffffff02881300000000000017a914d1e10915ee95cc4e22c0158336f5a3d5777768388790581700000000001976a9140d8d3508655bdf3bada0c33a87110f4eed366abc88ac00000000\n"
     ]
    }
   ],
   "source": [
    "sig = from_priv.sign_input(tx, 0, from_addr.to_script_pub_key())\n",
    "txin.script_sig = Script([sig, from_pub.to_hex()])\n",
    "signed_tx = tx.serialize()\n",
    "print(signed_tx)"
   ]
  },
  {
   "cell_type": "code",
   "execution_count": 11,
   "id": "d63b9d18-e104-469e-b9b5-4c02c9887509",
   "metadata": {},
   "outputs": [],
   "source": [
    "response_status = proxy.testmempoolaccept([signed_tx])[0]"
   ]
  },
  {
   "cell_type": "code",
   "execution_count": 12,
   "id": "9929ccfc-d2fd-43f8-8ae7-0f1e6b29cb48",
   "metadata": {},
   "outputs": [
    {
     "data": {
      "text/plain": [
       "{'txid': '4b83be5a725454adb6b8def8a38d39a93b9a18473be8b217e163150e4a3aa8a5',\n",
       " 'wtxid': '4b83be5a725454adb6b8def8a38d39a93b9a18473be8b217e163150e4a3aa8a5',\n",
       " 'allowed': False,\n",
       " 'reject-reason': 'mandatory-script-verify-flag-failed (Script evaluated without error but finished with a false/empty top stack element)'}"
      ]
     },
     "execution_count": 12,
     "metadata": {},
     "output_type": "execute_result"
    }
   ],
   "source": [
    "response_status"
   ]
  },
  {
   "cell_type": "code",
   "execution_count": null,
   "id": "2d6cf657-e5bd-4111-bd1e-983acb64e9d0",
   "metadata": {},
   "outputs": [],
   "source": []
  },
  {
   "cell_type": "code",
   "execution_count": null,
   "id": "4fd3bc10-b9cf-4ea5-a2cd-f3ef021b2dce",
   "metadata": {},
   "outputs": [],
   "source": []
  },
  {
   "cell_type": "markdown",
   "id": "02c2a95e-4ee4-4388-bff3-e861323c3e92",
   "metadata": {},
   "source": [
    "# P2SH(P2WSH(P2PK)) UTXO to a P2PKH UTXO"
   ]
  },
  {
   "cell_type": "code",
   "execution_count": 1,
   "id": "d6f8d167-2a96-4122-9428-5d1e034e2cc2",
   "metadata": {},
   "outputs": [
    {
     "data": {
      "text/plain": [
       "'regtest'"
      ]
     },
     "execution_count": 1,
     "metadata": {},
     "output_type": "execute_result"
    }
   ],
   "source": [
    "from bitcoinutils.keys import P2shAddress, PrivateKey\n",
    "from bitcoinutils.script import Script\n",
    "from bitcoinutils.setup import setup\n",
    "from bitcoinutils.hdwallet import HDWallet\n",
    "from bitcoinutils.transactions import Transaction, TxInput, TxOutput\n",
    "from bitcoinutils.setup import setup\n",
    "from bitcoinutils.keys import P2shAddress, PublicKey\n",
    "from bitcoinutils.script import Script\n",
    "from bitcoinutils.utils import to_satoshis\n",
    "from bitcoinutils.transactions import Transaction, TxInput, TxOutput, TxWitnessInput\n",
    "from bitcoinutils.keys import P2pkhAddress, P2shAddress, P2wshAddress, PrivateKey, PublicKey, Address\n",
    "from bitcoinutils.proxy import NodeProxy\n",
    "import hashlib\n",
    "from enum import Enum\n",
    "from bitcoinutils.setup import setup\n",
    "from binascii import unhexlify, hexlify\n",
    "from bitcoinutils.keys import P2shAddress, PrivateKey\n",
    "from bitcoinutils.script import Script\n",
    "from bitcoinutils.setup import setup\n",
    "from bitcoinutils.hdwallet import HDWallet\n",
    "from bitcoinutils.transactions import Transaction, TxInput, TxOutput, TxWitnessInput\n",
    "setup(\"regtest\")"
   ]
  },
  {
   "cell_type": "code",
   "execution_count": 2,
   "id": "c9c5ec45-4042-497c-b790-448d1c20ee37",
   "metadata": {},
   "outputs": [
    {
     "name": "stdout",
     "output_type": "stream",
     "text": [
      "cTicJXw3ywZptXupB453nmPCznnueXygw8vw1ckyAkQ63RZc7d34\n",
      "From address: 2N7y1bV4YbcsYNyHJrRwZdGBYPmeLUt1xnM\n"
     ]
    }
   ],
   "source": [
    "from_priv = PrivateKey(\"cTicJXw3ywZptXupB453nmPCznnueXygw8vw1ckyAkQ63RZc7d34\")\n",
    "print(from_priv.to_wif())\n",
    "from_pub = from_priv.get_public_key()\n",
    "from_addr = from_pub.get_address()\n",
    "\n",
    "witness_script = Script([from_pub.to_hex(), \"OP_CHECKSIG\"])\n",
    "p2sh_redeem_script = witness_script.to_p2wsh_script_pub_key()\n",
    "print(\"From address:\", P2shAddress.from_script(p2sh_redeem_script).to_string())"
   ]
  },
  {
   "cell_type": "code",
   "execution_count": 3,
   "id": "0964353e-0b2c-4d71-8dda-84838a03a88b",
   "metadata": {},
   "outputs": [
    {
     "name": "stdout",
     "output_type": "stream",
     "text": [
      "To address: mhZ7PvZZp5dafdGdds37m5AbZzArtqFsgT\n"
     ]
    }
   ],
   "source": [
    "to_priv = PrivateKey(\"cRQrsYJo8MPPkevELzJ85b3ei3M7p1doFfWv6oMQeFGupxFrq1sv\")\n",
    "to_address = to_priv.get_public_key().get_address()\n",
    "print(\"To address:\", to_address.to_string())"
   ]
  },
  {
   "cell_type": "code",
   "execution_count": 4,
   "id": "98ac1bad-f84e-4d61-ba34-9dd26dfaa168",
   "metadata": {},
   "outputs": [
    {
     "name": "stdout",
     "output_type": "stream",
     "text": [
      "02000000000101233a627b19b971933e0de87c2150428ca3001922132dd9f1fbcf91c3c532f95c0000000023220020b93a2e59a5c28fcbb4f2832b1ffd5808024c8902c1f8d06b63495adb06bc7820ffffffff01b80b0000000000001976a9141658ae48e77ce9b2f30f8949af51eca5328155b488ac024730440220736f51d34cb61e4b14f4f9845b55d601b922cca9351314bae53d4eb5b849a9c0022052cd5dd575248cb9c87a73e0e11433f210639857605e650149571346efa3e8160123210283aacf4507f578596fc8d65f393ecf8bc38a9740035c267bf745f89b4497626bac00000000\n"
     ]
    }
   ],
   "source": [
    "# Generated Transaction Id with the command\n",
    "# ./bitcoin-cli -regtest sendtoaddress \"mhZ7PvZZp5dafdGdds37m5AbZzArtqFsgT\" 0.1\n",
    "txid = \"5cf932c5c391cffbf1d92d13221900a38c4250217ce80d3e9371b9197b623a23\"\n",
    "vout = 0\n",
    "amount = 5000\n",
    "\n",
    "txin = TxInput(txid, vout)\n",
    "txout = TxOutput(3000, to_address.to_script_pub_key())\n",
    "tx = Transaction([txin], [txout], has_segwit=True)\n",
    "\n",
    "sig = from_priv.sign_segwit_input(tx, 0, witness_script, amount)\n",
    "\n",
    "txin.script_sig = Script([p2sh_redeem_script.to_hex()])\n",
    "tx.witnesses.append(TxWitnessInput([sig, witness_script.to_hex()]))\n",
    "\n",
    "signed_tx = tx.serialize()\n",
    "\n",
    "print(signed_tx)"
   ]
  },
  {
   "cell_type": "code",
   "execution_count": 5,
   "id": "8b1805c4-4ab5-4148-8555-1d9d436ca567",
   "metadata": {},
   "outputs": [
    {
     "data": {
      "text/plain": [
       "{'txid': 'e70ce6c653551161ebcefc2d64813e8bf79c974925640b7dc33f7d67f2cf7947',\n",
       " 'wtxid': 'e305228319d62935289aad33500223263805ca789f574d0d2c4448c45c316497',\n",
       " 'allowed': False,\n",
       " 'reject-reason': 'bad-witness-nonstandard'}"
      ]
     },
     "execution_count": 5,
     "metadata": {},
     "output_type": "execute_result"
    }
   ],
   "source": [
    "proxy = NodeProxy('deep', 'mdsSgY3ZUXe6x5JIQ81gpNwPPDu-arnaRGh-AGmi0IM').get_proxy()\n",
    "response_status = proxy.testmempoolaccept([signed_tx])[0]\n",
    "response_status"
   ]
  },
  {
   "cell_type": "code",
   "execution_count": null,
   "id": "399d1843-a6cd-4130-884c-e71345c1ba0a",
   "metadata": {},
   "outputs": [],
   "source": []
  }
 ],
 "metadata": {
  "kernelspec": {
   "display_name": "Python 3 (ipykernel)",
   "language": "python",
   "name": "python3"
  },
  "language_info": {
   "codemirror_mode": {
    "name": "ipython",
    "version": 3
   },
   "file_extension": ".py",
   "mimetype": "text/x-python",
   "name": "python",
   "nbconvert_exporter": "python",
   "pygments_lexer": "ipython3",
   "version": "3.9.18"
  }
 },
 "nbformat": 4,
 "nbformat_minor": 5
}
