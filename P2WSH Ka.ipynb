{
 "cells": [
  {
   "cell_type": "code",
   "execution_count": 7,
   "id": "28cd512f-fef6-47d3-807c-013f05071080",
   "metadata": {},
   "outputs": [
    {
     "name": "stdout",
     "output_type": "stream",
     "text": [
      "\n",
      "Private key WIF: cQkzPET6riGSCVRZdN7KvoJoPVqbHqKBuQfxPxYJn4YkD2jNYV4H\n",
      "Public key: 020df62f15256c2998040ca3bb7300f43a850d4e46f0e2df5e51732ed856fc7f8c\n",
      "\n",
      "Private key WIF: cVajuULJoowYefHZdSJ1ajvg3Z16hCheVPeUxdFRdcPzX23rKdLQ\n",
      "Public key: 030c4bbef076eff8c38722d0fc57d891ac57ea3a1277fda327902ed642a37c7c6b\n"
     ]
    }
   ],
   "source": [
    "from bitcoinutils.keys import P2shAddress, PrivateKey, PublicKey\n",
    "from bitcoinutils.script import Script\n",
    "from bitcoinutils.setup import setup\n",
    "from bitcoinutils.hdwallet import HDWallet\n",
    "from bitcoinutils.transactions import Transaction, TxInput, TxOutput, TxWitnessInput\n",
    "\n",
    "setup(\"regtest\")\n",
    "\n",
    "\n",
    "for i in range(2):\n",
    "    priv = PrivateKey()\n",
    "    print(\"\\nPrivate key WIF:\", priv.to_wif(compressed=True))\n",
    "    pub = priv.get_public_key()\n",
    "    print(\"Public key:\", pub.to_hex(compressed=True))"
   ]
  },
  {
   "cell_type": "code",
   "execution_count": 8,
   "id": "a59627d8-850f-4d90-b214-ead1a404bb83",
   "metadata": {},
   "outputs": [
    {
     "name": "stdout",
     "output_type": "stream",
     "text": [
      "cPmRKZatfPcdjaaLs9x83f32rqp8761qr8S2BRpZy3fSffwBYZie\n",
      "From address: 2NF1Q6VsiPkov1taNw2gpjphT8nUECnACuk\n",
      "To address: mz6PT94r64iSA64G31TMANa9mz1CkjjUgc\n"
     ]
    }
   ],
   "source": [
    "# regtest privatekey 1: cPmRKZatfPcdjaaLs9x83f32rqp8761qr8S2BRpZy3fSffwBYZie\n",
    "# regtest privatekey 2: cNKWuiGcGWu3WmrNvWP5E2NNw5crEpzN7Rz7b4mtxSdhRRDtK5EF\n",
    "\n",
    "# Private Key from generated in above code cell\n",
    "from_priv = PrivateKey(\"cPmRKZatfPcdjaaLs9x83f32rqp8761qr8S2BRpZy3fSffwBYZie\")\n",
    "print(from_priv.to_wif())\n",
    "from_pub = from_priv.get_public_key()\n",
    "from_addr = from_pub.get_address()\n",
    "\n",
    "witness_script = Script([from_pub.to_hex(), \"OP_CHECKSIG\"])\n",
    "p2sh_redeem_script = witness_script.to_p2wsh_script_pub_key()\n",
    "print(\"From address:\", P2shAddress.from_script(p2sh_redeem_script).to_string())\n",
    "\n",
    "# Private Key2 from generated in above code cell\n",
    "to_priv = PrivateKey(\"cNKWuiGcGWu3WmrNvWP5E2NNw5crEpzN7Rz7b4mtxSdhRRDtK5EF\")\n",
    "to_address = to_priv.get_public_key().get_address()\n",
    "print(\"To address:\", to_address.to_string())"
   ]
  },
  {
   "cell_type": "code",
   "execution_count": 10,
   "id": "077d2098-34d5-4a23-b532-883537b811d8",
   "metadata": {},
   "outputs": [
    {
     "name": "stdout",
     "output_type": "stream",
     "text": [
      "0200000000010188b68bdefa415c9bc2b355278be4ae4f120c6efe10396e77e51eabc726cbe30c0100000023220020e92acdcca96e04b56536bd8dfa2ff35bc4d781d6691cc90df04a612745751d64ffffffff01b80b0000000000001976a914cbc4fd958fa859122ccaaae7d4a9a67824999c2a88ac024730440220770476467483a24ab37c96f9e286950e071f1f49f8e871c66f407a380fc7431e02206ee77382f502a28e6c4d74f16f4735546e0cc6b361df10fef855d8b58493417301232103c26ff28fbc528cc9acd9cb68f172f076cf30b3151d1e0c109480ac51cfb694e7ac00000000\n"
     ]
    }
   ],
   "source": [
    "# UTXO's info\n",
    "# Generated the transaction Id\n",
    "txid = \"0ce3cb26c7ab1ee5776e3910fe6e0c124faee48b2755b3c29b5c41fade8bb688\"\n",
    "vout = 1\n",
    "amount = 5000\n",
    "\n",
    "txin = TxInput(txid, vout)\n",
    "txout = TxOutput(3000, to_address.to_script_pub_key())\n",
    "tx = Transaction([txin], [txout], has_segwit=True)\n",
    "\n",
    "sig = from_priv.sign_segwit_input(tx, 0, witness_script, amount)\n",
    "\n",
    "txin.script_sig = Script([p2sh_redeem_script.to_hex()])\n",
    "tx.witnesses.append(TxWitnessInput([sig, witness_script.to_hex()]))\n",
    "\n",
    "signed_tx = tx.serialize()\n",
    "\n",
    "print(signed_tx)"
   ]
  },
  {
   "cell_type": "code",
   "execution_count": null,
   "id": "7a8b3e1b-5807-48b2-a021-eb6375bb005d",
   "metadata": {},
   "outputs": [],
   "source": []
  }
 ],
 "metadata": {
  "kernelspec": {
   "display_name": "Python 3 (ipykernel)",
   "language": "python",
   "name": "python3"
  },
  "language_info": {
   "codemirror_mode": {
    "name": "ipython",
    "version": 3
   },
   "file_extension": ".py",
   "mimetype": "text/x-python",
   "name": "python",
   "nbconvert_exporter": "python",
   "pygments_lexer": "ipython3",
   "version": "3.9.18"
  }
 },
 "nbformat": 4,
 "nbformat_minor": 5
}
