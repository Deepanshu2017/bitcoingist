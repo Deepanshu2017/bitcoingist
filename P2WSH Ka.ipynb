{
 "cells": [
  {
   "cell_type": "code",
   "execution_count": 1,
   "id": "28cd512f-fef6-47d3-807c-013f05071080",
   "metadata": {},
   "outputs": [
    {
     "name": "stdout",
     "output_type": "stream",
     "text": [
      "\n",
      "Private key WIF: cRApDi2t1tkdJkRcibmgvejGKujbZAETRKBQfPmn1TyRaytkjiVH\n",
      "Public key: 02280eb108c1dd6780ad1ffaf3b2e8f9610edc29de96a5187c763139cace2bbc31\n",
      "\n",
      "Private key WIF: cMynEiAp9LiutqCeMJR5phSp1zEgaM5cnGKG1a2mhwXB94TnX5wQ\n",
      "Public key: 0302a04faa9274f2eec6a05fc4994a3484a7340c0feb1828df30b824d16f306671\n"
     ]
    }
   ],
   "source": [
    "from bitcoinutils.keys import P2shAddress, PrivateKey, PublicKey\n",
    "from bitcoinutils.script import Script\n",
    "from bitcoinutils.setup import setup\n",
    "from bitcoinutils.hdwallet import HDWallet\n",
    "from bitcoinutils.transactions import Transaction, TxInput, TxOutput, TxWitnessInput\n",
    "\n",
    "setup(\"testnet\")\n",
    "\n",
    "\n",
    "for i in range(2):\n",
    "    priv = PrivateKey()\n",
    "    print(\"\\nPrivate key WIF:\", priv.to_wif(compressed=True))\n",
    "    pub = priv.get_public_key()\n",
    "    print(\"Public key:\", pub.to_hex(compressed=True))"
   ]
  },
  {
   "cell_type": "code",
   "execution_count": 2,
   "id": "a59627d8-850f-4d90-b214-ead1a404bb83",
   "metadata": {},
   "outputs": [
    {
     "name": "stdout",
     "output_type": "stream",
     "text": [
      "cRApDi2t1tkdJkRcibmgvejGKujbZAETRKBQfPmn1TyRaytkjiVH\n",
      "From address: 2MuxtgnkyrUSudv99YbeApZQtfQmtuw7e8p\n",
      "To address: n21JKC1dxNbfkjD1igojCuuxzFhUidj3sE\n"
     ]
    }
   ],
   "source": [
    "#\n",
    "# Send from a P2SH(P2WSH(P2PK)) UTXO to a P2PKH UTXO\n",
    "#\n",
    "\n",
    "# xprivkey = (\n",
    "#     \"tprv8ZgxMBicQKsPdQR9RuHpGGxSnNq8Jr3X4WnT6Nf2eq7FajuXyBep5KWYpYEixxx5XdTm1N\"\n",
    "#     \"tpe84f3cVcF7mZZ7mPkntaFXLGJD2tS7YJkWU\"\n",
    "# )\n",
    "# path = \"m/86'/1'/0'/0/20\"\n",
    "# hdw = HDWallet(xprivkey, path)\n",
    "# # from_priv = hdw.get_private_key()\n",
    "\n",
    "# Private Key from generated in above code cell\n",
    "from_priv = PrivateKey(\"cRApDi2t1tkdJkRcibmgvejGKujbZAETRKBQfPmn1TyRaytkjiVH\")\n",
    "print(from_priv.to_wif())\n",
    "from_pub = from_priv.get_public_key()\n",
    "from_addr = from_pub.get_address()\n",
    "\n",
    "witness_script = Script([from_pub.to_hex(), \"OP_CHECKSIG\"])\n",
    "p2sh_redeem_script = witness_script.to_p2wsh_script_pub_key()\n",
    "print(\"From address:\", P2shAddress.from_script(p2sh_redeem_script).to_string())\n",
    "\n",
    "# hdw.from_path(\"m/86'/1'/0'/0/25\")\n",
    "# to_priv = hdw.get_private_key()\n",
    "# Private Key2 from generated in above code cell\n",
    "to_priv = PrivateKey(\"cMynEiAp9LiutqCeMJR5phSp1zEgaM5cnGKG1a2mhwXB94TnX5wQ\")\n",
    "to_address = to_priv.get_public_key().get_address()\n",
    "print(\"To address:\", to_address.to_string())"
   ]
  },
  {
   "cell_type": "code",
   "execution_count": 3,
   "id": "077d2098-34d5-4a23-b532-883537b811d8",
   "metadata": {},
   "outputs": [
    {
     "name": "stdout",
     "output_type": "stream",
     "text": [
      "0200000000010108fa4764a1b9d1da31b6fdee6d2f7e0c85016ce7024bbcff9d69cb14e0a47c7b00000000232200205a4a5b70ee8d94da712f8bf8eea004c30770a2b35a792eeab9300e68ab3e9caaffffffff01b80b0000000000001976a914e0bedfc69492883b4e997d965e86b95a7c905aae88ac02473044022009846fe3609748aeaf444c5c2fd3a6058af3596a6b48a485ea602ca408b4c3ba0220022b7ac3be8d12481be91e6144e7b0abf234549f1ca954b9b851362fac23989f01232102280eb108c1dd6780ad1ffaf3b2e8f9610edc29de96a5187c763139cace2bbc31ac00000000\n"
     ]
    }
   ],
   "source": [
    "# UTXO's info\n",
    "# Generated the transaction Id\n",
    "txid = \"7b7ca4e014cb699dffbc4b02e76c01850c7e2f6deefdb631dad1b9a16447fa08\"\n",
    "vout = 0\n",
    "amount = 5000\n",
    "\n",
    "txin = TxInput(txid, vout)\n",
    "txout = TxOutput(3000, to_address.to_script_pub_key())\n",
    "tx = Transaction([txin], [txout], has_segwit=True)\n",
    "\n",
    "sig = from_priv.sign_segwit_input(tx, 0, witness_script, amount)\n",
    "\n",
    "txin.script_sig = Script([p2sh_redeem_script.to_hex()])\n",
    "tx.witnesses.append(TxWitnessInput([sig, witness_script.to_hex()]))\n",
    "\n",
    "signed_tx = tx.serialize()\n",
    "\n",
    "print(signed_tx)"
   ]
  },
  {
   "cell_type": "code",
   "execution_count": null,
   "id": "7a8b3e1b-5807-48b2-a021-eb6375bb005d",
   "metadata": {},
   "outputs": [],
   "source": []
  }
 ],
 "metadata": {
  "kernelspec": {
   "display_name": "Python 3 (ipykernel)",
   "language": "python",
   "name": "python3"
  },
  "language_info": {
   "codemirror_mode": {
    "name": "ipython",
    "version": 3
   },
   "file_extension": ".py",
   "mimetype": "text/x-python",
   "name": "python",
   "nbconvert_exporter": "python",
   "pygments_lexer": "ipython3",
   "version": "3.9.18"
  }
 },
 "nbformat": 4,
 "nbformat_minor": 5
}
