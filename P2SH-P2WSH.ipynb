{
 "cells": [
  {
   "cell_type": "code",
   "execution_count": 1,
   "id": "c9a79d9d-76ea-4129-88b1-e3169f558c4e",
   "metadata": {},
   "outputs": [],
   "source": [
    "from bitcoinutils.setup import setup\n",
    "from bitcoinutils.keys import P2shAddress, PublicKey\n",
    "from bitcoinutils.script import Script\n",
    "from bitcoinutils.utils import to_satoshis\n",
    "from bitcoinutils.transactions import Transaction, TxInput, TxOutput, TxWitnessInput\n",
    "from bitcoinutils.keys import P2pkhAddress, P2shAddress, P2wshAddress, PrivateKey, PublicKey, Address\n",
    "from bitcoinutils.proxy import NodeProxy\n",
    "import hashlib\n",
    "from enum import Enum\n",
    "from bitcoinutils.setup import setup\n",
    "from binascii import unhexlify, hexlify"
   ]
  },
  {
   "cell_type": "code",
   "execution_count": 2,
   "id": "f6e0e679-9b0f-45fc-a6d9-6ce90d932f0c",
   "metadata": {},
   "outputs": [],
   "source": [
    "setup('regtest')\n",
    "private_key1 = PrivateKey(\"cTicJXw3ywZptXupB453nmPCznnueXygw8vw1ckyAkQ63RZc7d34\")\n",
    "private_key2 = PrivateKey(\"cRQrsYJo8MPPkevELzJ85b3ei3M7p1doFfWv6oMQeFGupxFrq1sv\")"
   ]
  },
  {
   "cell_type": "code",
   "execution_count": 3,
   "id": "691e6f0e-86b3-4dfd-a9c1-6321e26fc9ce",
   "metadata": {},
   "outputs": [
    {
     "name": "stdout",
     "output_type": "stream",
     "text": [
      "2N4vHiXTCCVMt4TYimTGXRCySzNLXkdiPyH\n",
      "['OP_HASH160', '800cb7e6de5fbf5520d437be4d0cbf8af82054b3', 'OP_EQUAL']\n"
     ]
    }
   ],
   "source": [
    "# Method - 1\n",
    "p2wsh_witness_script = Script(['OP_2', private_key1.get_public_key().to_hex(), private_key2.get_public_key().to_hex(),'OP_2', 'OP_CHECKMULTISIG'])\n",
    "script_bytes = p2wsh_witness_script.to_bytes()\n",
    "hashsha256 = hashlib.sha256(script_bytes).digest()\n",
    "hashsha256 = hexlify(hashsha256).decode('utf-8')\n",
    "p2sh_redeem_script = Script(['OP_0', hashsha256])\n",
    "p2sh_address = P2shAddress.from_script(p2sh_redeem_script)\n",
    "print(p2sh_address.to_string())\n",
    "print(p2sh_address.to_script_pub_key())"
   ]
  },
  {
   "cell_type": "code",
   "execution_count": 4,
   "id": "e0aefda9-43dc-48ab-9c3a-be26e935bc48",
   "metadata": {},
   "outputs": [],
   "source": [
    "# # Method - 2\n",
    "# txin_redeemScript = Script(['OP_2', private_key1.get_public_key().to_hex(), private_key2.get_public_key().to_hex(),'OP_2', 'OP_CHECKMULTISIG'])\n",
    "# print(txin_redeemScript.to_p2wsh_script_pub_key())\n",
    "# p2wsh_address = P2wshAddress.from_script(txin_redeemScript)\n",
    "# print(p2wsh_address.to_string())\n",
    "# p2sh_address = P2shAddress.from_script(p2wsh_address.to_script_pub_key())\n",
    "# print(p2sh_address.to_string())"
   ]
  },
  {
   "cell_type": "code",
   "execution_count": 5,
   "id": "dea8c58a-b006-4010-9d2f-c4329a1de3e0",
   "metadata": {},
   "outputs": [],
   "source": [
    "sk1 = PrivateKey('cTicJXw3ywZptXupB453nmPCznnueXygw8vw1ckyAkQ63RZc7d34')\n",
    "sk2 = PrivateKey('cRQrsYJo8MPPkevELzJ85b3ei3M7p1doFfWv6oMQeFGupxFrq1sv')"
   ]
  },
  {
   "cell_type": "code",
   "execution_count": 8,
   "id": "90daccba-ae47-43a3-81c0-ee3c8421b806",
   "metadata": {},
   "outputs": [
    {
     "name": "stdout",
     "output_type": "stream",
     "text": [
      "[{'address': '2N4vHiXTCCVMt4TYimTGXRCySzNLXkdiPyH', 'category': 'send', 'amount': Decimal('-0.10000000'), 'vout': 1, 'fee': Decimal('-0.00001430'), 'confirmations': 0, 'trusted': True, 'txid': 'f5f9c98b0c7b0731cba11f5a1b0494a62d2a2de5c09aaf3ac37fa56d48c271bd', 'wtxid': 'bed63897ca9c23ee891a9752b143ee063bf9aa97c813c5a455210a5f8437be6a', 'walletconflicts': [], 'time': 1693271904, 'timereceived': 1693271904, 'bip125-replaceable': 'yes', 'abandoned': False}, {'address': '2N4vHiXTCCVMt4TYimTGXRCySzNLXkdiPyH', 'category': 'send', 'amount': Decimal('-0.10000000'), 'vout': 0, 'fee': Decimal('-0.00001430'), 'confirmations': 0, 'trusted': True, 'txid': '7d1ca2f8ec816e19716a9fd462fb4b124d510edf9dd5cf0d6d115aca64c5f74d', 'wtxid': '9c7d1033fcbd2a552e334081e353a50bc77389dedef9c0cc9f3509ed5d2a62a4', 'walletconflicts': [], 'time': 1693388894, 'timereceived': 1693388894, 'bip125-replaceable': 'yes', 'abandoned': False}]\n",
      "\n",
      "*Found UTXO with 0.10000000 tBTC, TXID : [f5f9c98b0c7b0731cba11f5a1b0494a62d2a2de5c09aaf3ac37fa56d48c271bd]\n",
      "*Found UTXO with 0.10000000 tBTC, TXID : [7d1ca2f8ec816e19716a9fd462fb4b124d510edf9dd5cf0d6d115aca64c5f74d]\n",
      "Total spendable amount aggregated from 2 UTXO(s) associated with P2SH address: 0.20000000 tBTC\n",
      "TX fee in satoshis: 25898 (Fee Rate is 0.00078000 tBTC/KB)\n",
      "Sending 19974102 satoshis (0.19974102 BTC) to P2PKH address [n4bkvTyU1dVdzsrhWBqBw8fEMbHjJvtmJR]\n",
      "\n",
      "Raw transaction:\n",
      "0200000002bd71c2486da57fc33aaf9ac0e52d2a2da694041b5a1fa1cb31077b0c8bc9f9f50100000000ffffffff4df7c564ca5a116d0dcfd59ddf0e514d124bfb62d49f6a71196e81ecf8a21c7d0000000000ffffffff01d6c73001000000001976a914fd337ad3bf81e086d96a68e1f8d6a0a510f8c24a88ac00000000\n"
     ]
    }
   ],
   "source": [
    "proxy = NodeProxy('deep', 'mdsSgY3ZUXe6x5JIQ81gpNwPPDu-arnaRGh-AGmi0IM').get_proxy()\n",
    "\n",
    "# p2pkh_addr = P2pkhAddress('n4bkvTyU1dVdzsrhWBqBw8fEMbHjJvtmJR')\n",
    "n_blocks = proxy.getblockcount()\n",
    "n_mempool = proxy.getmempoolinfo()[\"size\"]\n",
    "total_txs = sum(\n",
    "    [proxy.getblockstats(block, [\"txs\"])[\"txs\"] for block in range(1, n_blocks)]\n",
    ")\n",
    "all_txs = proxy.listtransactions(\"*\", total_txs + n_mempool, 0, True)\n",
    "p2sh_txs = [*filter(lambda tx: tx[\"address\"] == p2sh_address.to_string(), all_txs)]\n",
    "print(p2sh_txs, end='\\n\\n')\n",
    "\n",
    "p2sh_utxo = []\n",
    "amount_to_send = 0.0\n",
    "MIN_CONF = 0\n",
    "\n",
    "for tx in p2sh_txs:\n",
    "    if not proxy.gettxout(tx[\"txid\"], tx[\"vout\"]):\n",
    "        print(\"tx [{}] already spent\".format(tx[\"txid\"]))\n",
    "        continue\n",
    "    if int(tx[\"confirmations\"]) >= MIN_CONF and tx[\"category\"] == \"send\":\n",
    "        tx_in = TxInput(tx[\"txid\"], tx[\"vout\"])\n",
    "        print(\n",
    "            \"*Found UTXO with {0:.8f} tBTC, TXID : [{1}]\".format(\n",
    "                abs(tx[\"amount\"]), tx[\"txid\"]\n",
    "            )\n",
    "        )\n",
    "        p2sh_utxo += [tx_in]\n",
    "        amount_to_send += abs(float(tx[\"amount\"]))\n",
    "\n",
    "if not p2sh_utxo:\n",
    "    raise RuntimeError(\"No UTXO's currently associated with that P2SH address\")\n",
    "\n",
    "PRICE_PER_BYTE = 0.00078 / 1024\n",
    "tx_fee = (len(p2sh_utxo) * 148 + 1 * 34 + 10) * PRICE_PER_BYTE\n",
    "\n",
    "print(\"Total spendable amount aggregated from {0} UTXO(s) associated with P2SH address: {1:.8f} tBTC\".format(len(p2sh_utxo), amount_to_send))\n",
    "print(\"TX fee in satoshis: {0} (Fee Rate is {1:.8f} tBTC/KB)\".format(to_satoshis(tx_fee), 0.00078))\n",
    "amount_to_send -= tx_fee\n",
    "\n",
    "print(\"Sending {0} satoshis ({1:.8f} BTC) to P2PKH address [{2}]\".format(to_satoshis(amount_to_send), amount_to_send, p2pkh_addr.to_string()))\n",
    "\n",
    "txout = TxOutput(to_satoshis(amount_to_send), p2pkh_addr.to_script_pub_key())\n",
    "tx = Transaction(inputs=p2sh_utxo, outputs=[txout], has_segwit=False)\n",
    "print(\"\\nRaw transaction:\\n\" + tx.serialize())"
   ]
  },
  {
   "cell_type": "code",
   "execution_count": 9,
   "id": "f440d1ab-e143-4951-a5a1-568d89149670",
   "metadata": {},
   "outputs": [],
   "source": [
    "# txin_redeemScript = Script(['OP_2', private_key1.get_public_key().to_hex(), private_key2.get_public_key().to_hex(),'OP_2', 'OP_CHECKMULTISIG'])\n",
    "# txin_scriptPubKey = Script(['OP_0', hashsha256])\n",
    "\n",
    "for tx_idx, txin in enumerate(p2sh_utxo):\n",
    "    sig1 = sk1.sign_input(tx, tx_idx, p2sh_redeem_script)\n",
    "    sig2 = sk2.sign_input(tx, tx_idx, p2sh_redeem_script)\n",
    "    \n",
    "    # unlocking_script = Script(['OP_0', sig1, sig2, p2sh_redeem_script.to_hex()])\n",
    "    witness_data = [b'', sig1, sig2, p2wsh_witness_script.to_hex()]\n",
    "    tx.witnesses.append(TxWitnessInput(witness_data))\n",
    "    unlocking_script = Script(['OP_0', p2sh_redeem_script.to_hex()])\n",
    "    txin.script_sig = unlocking_script\n"
   ]
  },
  {
   "cell_type": "code",
   "execution_count": 10,
   "id": "1d357892-5dd8-49f7-a8bc-1d9c8dcbfb64",
   "metadata": {},
   "outputs": [
    {
     "name": "stdout",
     "output_type": "stream",
     "text": [
      "{'inputs': [{'txid': 'f5f9c98b0c7b0731cba11f5a1b0494a62d2a2de5c09aaf3ac37fa56d48c271bd', 'txout_index': 1, 'script_sig': ['OP_0', '0020823dfa1e4f88d20a6d3d35eed58ec16d87da30b3da1e87910803f617d76be223']}, {'txid': '7d1ca2f8ec816e19716a9fd462fb4b124d510edf9dd5cf0d6d115aca64c5f74d', 'txout_index': 0, 'script_sig': ['OP_0', '0020823dfa1e4f88d20a6d3d35eed58ec16d87da30b3da1e87910803f617d76be223']}], 'outputs': [{'amount': 19974102, 'script_pubkey': ['OP_DUP', 'OP_HASH160', 'fd337ad3bf81e086d96a68e1f8d6a0a510f8c24a', 'OP_EQUALVERIFY', 'OP_CHECKSIG']}], 'has_segwit': False, 'witnesses': [{'witness_items': [b'', '30440220383d3efc04fb5f6573ece8950872707fd1527e59a21f1c413cd050e692f6c3d40220527ec9e8374fe966da95269f18b2b9bac55915383a3b1b41963ee35225ad69b001', '30440220423354eda6291012ede20adb9649615b2204049fcf47c619f5bf45d6bba2a088022049d1f708d0109ffd1b895cbeb961df0c25f1962da74971869b5a55057ba237c501', '52210283aacf4507f578596fc8d65f393ecf8bc38a9740035c267bf745f89b4497626b210303db6694f92b732d39e7eb27e746f7f0036aa7c77f054a21434f61f9db5f7eaa52ae']}, {'witness_items': [b'', '304402205aca7187f23a4566622d3b0653ce327326f2b250be2e304f8baca15624020f76022045dcfa0c96cafffa3c3629da29db0b29073a6a48d1a13db3bbeb30fe323c1f6201', '304402204b01916efc1453f40b82461cfe3436886d9fc7ddba4bc8523b377d4332cc8861022007b7405f927a7137d6d1d21993c8b260c321485743ff80a88c864e8f5f8b6afa01', '52210283aacf4507f578596fc8d65f393ecf8bc38a9740035c267bf745f89b4497626b210303db6694f92b732d39e7eb27e746f7f0036aa7c77f054a21434f61f9db5f7eaa52ae']}], 'locktime': '00000000', 'version': '02000000'}\n",
      "\n",
      "\n",
      "\n",
      "Raw signed transaction: 0200000002bd71c2486da57fc33aaf9ac0e52d2a2da694041b5a1fa1cb31077b0c8bc9f9f5010000002400220020823dfa1e4f88d20a6d3d35eed58ec16d87da30b3da1e87910803f617d76be223ffffffff4df7c564ca5a116d0dcfd59ddf0e514d124bfb62d49f6a71196e81ecf8a21c7d000000002400220020823dfa1e4f88d20a6d3d35eed58ec16d87da30b3da1e87910803f617d76be223ffffffff01d6c73001000000001976a914fd337ad3bf81e086d96a68e1f8d6a0a510f8c24a88ac00000000\n",
      "\n",
      "=======================================================================\n",
      "Tx ID: 54ea990d7c35dbe548b8bb50be8a7b74226d05fb010cef96c642680055cb876f\n",
      "=======================================================================\n"
     ]
    }
   ],
   "source": [
    "print(tx, end='\\n\\n\\n')\n",
    "final_signed_tx = tx.serialize()\n",
    "\n",
    "# display raw signed transaction ready to be broadcasted\n",
    "print(\"\\nRaw signed transaction: %s\\n\" % final_signed_tx)\n",
    "print(\"=\" * 71)\n",
    "\n",
    "# display the transaction id\n",
    "print(\"Tx ID: %s\" % tx.get_txid())\n",
    "print(\"=\" * 71)\n",
    "\n",
    "# confirm the validity of the transaction by performing a mempool acceptance test\n",
    "response_status = proxy.testmempoolaccept([final_signed_tx])[0]"
   ]
  },
  {
   "cell_type": "code",
   "execution_count": 11,
   "id": "f1de588f-2476-47be-a901-299bb92409ef",
   "metadata": {},
   "outputs": [
    {
     "data": {
      "text/plain": [
       "{'txid': '54ea990d7c35dbe548b8bb50be8a7b74226d05fb010cef96c642680055cb876f',\n",
       " 'wtxid': '54ea990d7c35dbe548b8bb50be8a7b74226d05fb010cef96c642680055cb876f',\n",
       " 'allowed': False,\n",
       " 'reject-reason': 'non-mandatory-script-verify-flag (Witness requires only-redeemscript scriptSig)'}"
      ]
     },
     "execution_count": 11,
     "metadata": {},
     "output_type": "execute_result"
    }
   ],
   "source": [
    "response_status"
   ]
  },
  {
   "cell_type": "code",
   "execution_count": null,
   "id": "3802ee32-3913-4f0d-a7ab-9120071b681e",
   "metadata": {},
   "outputs": [],
   "source": []
  },
  {
   "cell_type": "code",
   "execution_count": null,
   "id": "d04ae291-7ebf-409f-b07e-7f1ddae7b4f0",
   "metadata": {},
   "outputs": [],
   "source": []
  },
  {
   "cell_type": "code",
   "execution_count": null,
   "id": "2462a5be-8671-430a-b9dc-becf5333468e",
   "metadata": {},
   "outputs": [],
   "source": []
  }
 ],
 "metadata": {
  "kernelspec": {
   "display_name": "Python 3 (ipykernel)",
   "language": "python",
   "name": "python3"
  },
  "language_info": {
   "codemirror_mode": {
    "name": "ipython",
    "version": 3
   },
   "file_extension": ".py",
   "mimetype": "text/x-python",
   "name": "python",
   "nbconvert_exporter": "python",
   "pygments_lexer": "ipython3",
   "version": "3.9.18"
  }
 },
 "nbformat": 4,
 "nbformat_minor": 5
}
